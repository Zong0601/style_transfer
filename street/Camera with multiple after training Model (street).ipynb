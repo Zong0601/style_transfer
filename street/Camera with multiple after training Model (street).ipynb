{
 "cells": [
  {
   "cell_type": "code",
   "execution_count": 1,
   "metadata": {},
   "outputs": [],
   "source": [
    "import tensorflow as tf\n",
    "tf.compat.v1.disable_eager_execution()"
   ]
  },
  {
   "cell_type": "code",
   "execution_count": 2,
   "metadata": {},
   "outputs": [
    {
     "name": "stderr",
     "output_type": "stream",
     "text": [
      "Using TensorFlow backend.\n"
     ]
    }
   ],
   "source": [
    "from __future__ import print_function,division\n",
    "from tensorflow import keras\n",
    "import scipy\n",
    "import datetime\n",
    "import matplotlib.pyplot as plt\n",
    "import matplotlib.image as mpimg\n",
    "import sys\n",
    "import numpy as np\n",
    "import os\n",
    "import time\n",
    "import cv2\n",
    "from glob import glob\n",
    "from PIL import Image\n",
    "from keras.models import load_model\n",
    "from keras_contrib.layers import InstanceNormalization\n",
    "\n",
    "np.random.seed(10)"
   ]
  },
  {
   "cell_type": "code",
   "execution_count": 3,
   "metadata": {},
   "outputs": [],
   "source": [
    "def imread(path):          \n",
    "    return scipy.misc.imread(path, mode='RGB').astype(np.float)"
   ]
  },
  {
   "cell_type": "code",
   "execution_count": 4,
   "metadata": {},
   "outputs": [
    {
     "name": "stdout",
     "output_type": "stream",
     "text": [
      "WARNING:tensorflow:From C:\\Users\\user\\Anaconda3\\envs\\tf-gpu\\lib\\site-packages\\tensorflow_core\\python\\ops\\resource_variable_ops.py:1630: calling BaseResourceVariable.__init__ (from tensorflow.python.ops.resource_variable_ops) with constraint is deprecated and will be removed in a future version.\n",
      "Instructions for updating:\n",
      "If using Keras pass *_constraint arguments to layers.\n"
     ]
    }
   ],
   "source": [
    "model = load_model('C:/Users/user/Desktop/GAN_TEST/model/ukiyoe2street_preprocess/ukiyoe2street_2(only_morning)/G_BA_ukiyoe2street_preprocess_256x256.h5',custom_objects={'InstanceNormalization':InstanceNormalization},compile=False)\n",
    "model2= load_model('C:/Users/user/Desktop/GAN_TEST/model/ink2street/ink2street_2(only_morning)/G_BA_ink2street_256x256.h5',custom_objects={'InstanceNormalization':InstanceNormalization},compile=False)\n",
    "model3= load_model('C:/Users/user/Desktop/GAN_TEST/model/glass2street/glass2street_3(only_morning)/G_BA_glass2street_256x256.h5',custom_objects={'InstanceNormalization':InstanceNormalization},compile=False)\n",
    "model4= load_model('C:/Users/user/Desktop/GAN_TEST/model/street2christmas_only_night/street2christmas_3(only_night)/G_BA_street2christmas_only_night_256x256.h5',custom_objects={'InstanceNormalization':InstanceNormalization},compile=False)"
   ]
  },
  {
   "cell_type": "code",
   "execution_count": 5,
   "metadata": {},
   "outputs": [
    {
     "name": "stderr",
     "output_type": "stream",
     "text": [
      "C:\\Users\\user\\Anaconda3\\envs\\tf-gpu\\lib\\site-packages\\ipykernel_launcher.py:18: DeprecationWarning: `imresize` is deprecated!\n",
      "`imresize` is deprecated in SciPy 1.0.0, and will be removed in 1.3.0.\n",
      "Use Pillow instead: ``numpy.array(Image.fromarray(arr).resize())``.\n",
      "C:\\Users\\user\\Anaconda3\\envs\\tf-gpu\\lib\\site-packages\\ipykernel_launcher.py:26: DeprecationWarning: `imresize` is deprecated!\n",
      "`imresize` is deprecated in SciPy 1.0.0, and will be removed in 1.3.0.\n",
      "Use Pillow instead: ``numpy.array(Image.fromarray(arr).resize())``.\n",
      "C:\\Users\\user\\Anaconda3\\envs\\tf-gpu\\lib\\site-packages\\ipykernel_launcher.py:41: DeprecationWarning: `imresize` is deprecated!\n",
      "`imresize` is deprecated in SciPy 1.0.0, and will be removed in 1.3.0.\n",
      "Use Pillow instead: ``numpy.array(Image.fromarray(arr).resize())``.\n",
      "C:\\Users\\user\\Anaconda3\\envs\\tf-gpu\\lib\\site-packages\\ipykernel_launcher.py:49: DeprecationWarning: `imresize` is deprecated!\n",
      "`imresize` is deprecated in SciPy 1.0.0, and will be removed in 1.3.0.\n",
      "Use Pillow instead: ``numpy.array(Image.fromarray(arr).resize())``.\n",
      "C:\\Users\\user\\Anaconda3\\envs\\tf-gpu\\lib\\site-packages\\ipykernel_launcher.py:63: DeprecationWarning: `imresize` is deprecated!\n",
      "`imresize` is deprecated in SciPy 1.0.0, and will be removed in 1.3.0.\n",
      "Use Pillow instead: ``numpy.array(Image.fromarray(arr).resize())``.\n",
      "C:\\Users\\user\\Anaconda3\\envs\\tf-gpu\\lib\\site-packages\\ipykernel_launcher.py:71: DeprecationWarning: `imresize` is deprecated!\n",
      "`imresize` is deprecated in SciPy 1.0.0, and will be removed in 1.3.0.\n",
      "Use Pillow instead: ``numpy.array(Image.fromarray(arr).resize())``.\n",
      "C:\\Users\\user\\Anaconda3\\envs\\tf-gpu\\lib\\site-packages\\ipykernel_launcher.py:85: DeprecationWarning: `imresize` is deprecated!\n",
      "`imresize` is deprecated in SciPy 1.0.0, and will be removed in 1.3.0.\n",
      "Use Pillow instead: ``numpy.array(Image.fromarray(arr).resize())``.\n",
      "C:\\Users\\user\\Anaconda3\\envs\\tf-gpu\\lib\\site-packages\\ipykernel_launcher.py:93: DeprecationWarning: `imresize` is deprecated!\n",
      "`imresize` is deprecated in SciPy 1.0.0, and will be removed in 1.3.0.\n",
      "Use Pillow instead: ``numpy.array(Image.fromarray(arr).resize())``.\n"
     ]
    }
   ],
   "source": [
    "cap = cv2.VideoCapture(0)  # 創建一個 VideoCapture \n",
    "\n",
    "cap.set(3, 640)            # cap.set（）設置攝像頭參數：  3:寬   4:高\n",
    "cap.set(4, 480)            # opencv-python 版本太低會沒辦法調整長寬比 \n",
    "\n",
    "\n",
    "while(cap.isOpened()):  # 循環讀取每一貞數     # cap.isOpened() 檢查攝影機是否有啟動\n",
    "\n",
    "    ret, frame = cap.read()\n",
    "    cv2.imshow(\"Original\", frame)        \n",
    "    k = cv2.waitKey(1) & 0xFF\n",
    "\n",
    "    \n",
    "    \n",
    "    if k == ord('1'):\n",
    "        while(cap.isOpened()):\n",
    "            ret, frame = cap.read()\n",
    "            cv2.imshow(\"Original\", frame)\n",
    "            img = scipy.misc.imresize(frame,(256,256))    #256x256用的\n",
    "            #img = scipy.misc.imresize(frame,(512,512))   #512x512用的\n",
    "            #cv2.putText(img, \"ukiyoe\", (5, 20), cv2.FONT_HERSHEY_COMPLEX_SMALL,1, (255, 0, 0), 1, cv2.LINE_AA)\n",
    "            imgs = np.array(img)/127.5 - 1.\n",
    "            imgs = np.expand_dims(imgs,0)\n",
    "        \n",
    "            x = model.predict(imgs)\n",
    "            x = (x+1)/2\n",
    "            x = x[0,:,:]\n",
    "            x1 = scipy.misc.imresize(x,(480,640))\n",
    "            cv2.imshow(\"style1\", x)\n",
    "            cv2.imshow(\"style1_640x480\", x1)   \n",
    "            k = cv2.waitKey(1) & 0xFF  # 每帧數據延遲 1ms，延遲不能為 0，否則讀取的结果会是静態貞\n",
    "            \n",
    "            if k == ord('q'):\n",
    "                cv2.destroyAllWindows()\n",
    "                break\n",
    "        \n",
    "        \n",
    "        \n",
    "    elif k == ord('2'):\n",
    "        while(cap.isOpened()):\n",
    "            ret, frame = cap.read()\n",
    "            cv2.imshow(\"Original\", frame)         \n",
    "            img = scipy.misc.imresize(frame,(256,256))    #256x256用的\n",
    "            #img = scipy.misc.imresize(frame,(512,512))   #512x512用的\n",
    "            #cv2.putText(img, \"ink\", (5, 20), cv2.FONT_HERSHEY_COMPLEX_SMALL,1, (255, 0, 0), 1, cv2.LINE_AA)\n",
    "            imgs = np.array(img)/127.5 - 1.\n",
    "            imgs = np.expand_dims(imgs,0)\n",
    "        \n",
    "            x = model2.predict(imgs)   \n",
    "            x = (x+1)/2\n",
    "            x = x[0,:,:]\n",
    "            x1 = scipy.misc.imresize(x,(480,640))\n",
    "            cv2.imshow(\"style2\", x)\n",
    "            cv2.imshow(\"style2_640x480\", x1)   \n",
    "            k = cv2.waitKey(1) & 0xFF  \n",
    "                \n",
    "            if k == ord('q'):\n",
    "                cv2.destroyAllWindows()\n",
    "                break\n",
    "    \n",
    "    \n",
    "    \n",
    "    elif k == ord('3'):\n",
    "        while(cap.isOpened()):\n",
    "            ret, frame = cap.read()\n",
    "            cv2.imshow(\"Original\", frame)         \n",
    "            img = scipy.misc.imresize(frame,(256,256))    #256x256用的\n",
    "            #img = scipy.misc.imresize(frame,(512,512))   #512x512用的\n",
    "            #cv2.putText(img, \"glass\", (5, 20), cv2.FONT_HERSHEY_COMPLEX_SMALL,1, (255, 0, 0), 1, cv2.LINE_AA)\n",
    "            imgs = np.array(img)/127.5 - 1.\n",
    "            imgs = np.expand_dims(imgs,0)\n",
    "        \n",
    "            x = model3.predict(imgs)   \n",
    "            x = (x+1)/2\n",
    "            x = x[0,:,:]\n",
    "            x1 = scipy.misc.imresize(x,(480,640))\n",
    "            cv2.imshow(\"style3\", x)\n",
    "            cv2.imshow(\"style3_640x480\", x1)   \n",
    "            k = cv2.waitKey(1) & 0xFF  \n",
    "                \n",
    "            if k == ord('q'):\n",
    "                cv2.destroyAllWindows()\n",
    "                break\n",
    "                \n",
    "                \n",
    "                \n",
    "    elif k == ord('4'):\n",
    "        while(cap.isOpened()):\n",
    "            ret, frame = cap.read()\n",
    "            cv2.imshow(\"Original\", frame)         \n",
    "            img = scipy.misc.imresize(frame,(256,256))    #256x256用的\n",
    "            #img = scipy.misc.imresize(frame,(512,512))   #512x512用的\n",
    "            #cv2.putText(img, \"lamp\", (5, 20), cv2.FONT_HERSHEY_COMPLEX_SMALL,1, (255, 0, 0), 1, cv2.LINE_AA)\n",
    "            imgs = np.array(img)/127.5 - 1.\n",
    "            imgs = np.expand_dims(imgs,0)\n",
    "        \n",
    "            x = model4.predict(imgs)   \n",
    "            x = (x+1)/2\n",
    "            x = x[0,:,:]\n",
    "            x1 = scipy.misc.imresize(x,(480,640))\n",
    "            cv2.imshow(\"style4\", x)\n",
    "            cv2.imshow(\"style4_640x480\", x1)   \n",
    "            k = cv2.waitKey(1) & 0xFF  \n",
    "                \n",
    "            if k == ord('q'):\n",
    "                cv2.destroyAllWindows()\n",
    "                break          \n",
    "                \n",
    "                   \n",
    "        \n",
    "    elif k == ord('s'):  # 檢測到按键 ‘s’，保存圖片\n",
    "        #print(cap.get(3))\n",
    "        #print(cap.get(4))\n",
    "        #保存一帧图片q\n",
    "        cv2.imwrite('1.jpg', frame)\n",
    "        \n",
    "        \n",
    "        \n",
    "    elif k == ord('q'):  # 檢測到按键 ‘q’，退出\n",
    "        break\n",
    "        \n",
    "cap.release()\n",
    "cv2.destroyAllWindows()"
   ]
  },
  {
   "cell_type": "code",
   "execution_count": null,
   "metadata": {},
   "outputs": [],
   "source": []
  },
  {
   "cell_type": "code",
   "execution_count": null,
   "metadata": {},
   "outputs": [],
   "source": []
  },
  {
   "cell_type": "code",
   "execution_count": null,
   "metadata": {},
   "outputs": [],
   "source": []
  },
  {
   "cell_type": "code",
   "execution_count": null,
   "metadata": {},
   "outputs": [],
   "source": []
  },
  {
   "cell_type": "code",
   "execution_count": null,
   "metadata": {},
   "outputs": [],
   "source": []
  },
  {
   "cell_type": "code",
   "execution_count": null,
   "metadata": {},
   "outputs": [],
   "source": []
  },
  {
   "cell_type": "code",
   "execution_count": null,
   "metadata": {},
   "outputs": [],
   "source": []
  },
  {
   "cell_type": "code",
   "execution_count": null,
   "metadata": {},
   "outputs": [],
   "source": []
  },
  {
   "cell_type": "code",
   "execution_count": null,
   "metadata": {},
   "outputs": [],
   "source": []
  },
  {
   "cell_type": "code",
   "execution_count": null,
   "metadata": {},
   "outputs": [],
   "source": []
  },
  {
   "cell_type": "code",
   "execution_count": null,
   "metadata": {},
   "outputs": [],
   "source": []
  },
  {
   "cell_type": "code",
   "execution_count": null,
   "metadata": {},
   "outputs": [],
   "source": []
  },
  {
   "cell_type": "code",
   "execution_count": null,
   "metadata": {},
   "outputs": [],
   "source": []
  }
 ],
 "metadata": {
  "kernelspec": {
   "display_name": "Python (tensorflow-gpu)",
   "language": "python",
   "name": "tensorflow-gpu"
  },
  "language_info": {
   "codemirror_mode": {
    "name": "ipython",
    "version": 3
   },
   "file_extension": ".py",
   "mimetype": "text/x-python",
   "name": "python",
   "nbconvert_exporter": "python",
   "pygments_lexer": "ipython3",
   "version": "3.6.10"
  }
 },
 "nbformat": 4,
 "nbformat_minor": 4
}
